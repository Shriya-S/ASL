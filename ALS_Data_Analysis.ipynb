{
 "cells": [
  {
   "cell_type": "code",
   "execution_count": 82,
   "metadata": {},
   "outputs": [
    {
     "data": {
      "image/png": "[encoded data removed]",
      "text/plain": [
       "<Figure size 432x288 with 1 Axes>"
      ]
     },
     "metadata": {
      "needs_background": "light"
     },
     "output_type": "display_data"
    }
   ],
   "source": [
    "from glob import glob\n",
    "import os\n",
    "import matplotlib.pyplot as plt\n",
    "\n",
    "list_cats = []\n",
    "list_values = []\n",
    "#Takes every category in the file and turns it into a list\n",
    "sub = glob(\"/Users/shriyas/Downloads/ASL2/asl_alphabet_train/asl_alphabet_train/*/\")\n",
    "#Sorts the list to be in aphabetic order\n",
    "sub.sort()\n",
    "#Gets the number of images in the folder\n",
    "list_images = os.listdir('/Users/shriyas/Downloads/ASL2/asl_alphabet_train/asl_alphabet_train/nothing/')\n",
    "a = 0\n",
    "for i in sub:\n",
    "#Takes the category values and splits the path into a list\n",
    "    x = sub[a]\n",
    "    new_x = x.split('/')\n",
    "#Gets the second to last item in the list which is the letter of the file\n",
    "    N = len(new_x ) - 2\n",
    "#Appends the letter to the list\n",
    "    list_cats.append(new_x[N])\n",
    "#Makes sure that number of files is = length as the number of images\n",
    "    number_files = len(list_images)\n",
    "#Appends the number of images to the list\n",
    "    list_values.append(number_files)\n",
    "    a = a + 1\n",
    "#Creates and plots a bar chart based on how many images are in each category\n",
    "plt.bar(list_cats, list_values)\n",
    "plt.xlabel('Letter')\n",
    "plt.ylabel('# of Images')\n",
    "plt.show()"
   ]
  },
  {
   "cell_type": "code",
   "execution_count": null,
   "metadata": {
    "scrolled": true
   },
   "outputs": [],
   "source": []
  },
  {
   "cell_type": "code",
   "execution_count": null,
   "metadata": {},
   "outputs": [],
   "source": []
  },
  {
   "cell_type": "code",
   "execution_count": null,
   "metadata": {},
   "outputs": [],
   "source": []
  }
 ],
 "metadata": {
  "kernelspec": {
   "display_name": "Python 3",
   "language": "python",
   "name": "python3"
  },
  "language_info": {
   "codemirror_mode": {
    "name": "ipython",
    "version": 3
   },
   "file_extension": ".py",
   "mimetype": "text/x-python",
   "name": "python",
   "nbconvert_exporter": "python",
   "pygments_lexer": "ipython3",
   "version": "3.7.6"
  }
 },
 "nbformat": 4,
 "nbformat_minor": 4
}
