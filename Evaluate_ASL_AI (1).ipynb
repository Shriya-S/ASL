{
 "cells": [
  {
   "cell_type": "code",
   "execution_count": 3,
   "metadata": {},
   "outputs": [
    {
     "data": {
      "text/plain": [
       "array([[  0,   0, 100],\n",
       "       [  0,   0, 100],\n",
       "       [  0,   0,   0]])"
      ]
     },
     "execution_count": 3,
     "metadata": {},
     "output_type": "execute_result"
    }
   ],
   "source": [
    "import requests\n",
    "import base64\n",
    "from os import listdir\n",
    "from os.path import isfile, join\n",
    "import numpy as np\n",
    "import json\n",
    "\n",
    "#Read 100 images of a in American Sign Language \n",
    "# Make predictions and store the prediction and probability\n",
    "def get_prediction(image_data):\n",
    "    url = 'https://4srz4f0vc4.execute-api.us-east-1.amazonaws.com/Predict/cd452945-4208-47c1-b1a1-75f44fd2fee3'\n",
    "    r = requests.post(url, data=image_data)\n",
    "    response_raw = getattr(r,'_content').decode(\"utf-8\")\n",
    "    response = json.loads(response_raw)\n",
    "    #print(response)\n",
    "    return response\n",
    "\n",
    "path_ASL_A = \"/Users/shriyas/Downloads/23079_29550_bundle_archive/asl_alphabet_train/asl_alphabet_train/A/A_Test\"\n",
    "\n",
    "ASL_images_list_A = [f for f in listdir(path_ASL_A) if isfile(join(path_ASL_A, f))]\n",
    "num_samples_A = len(ASL_images_list_A)\n",
    "\n",
    "true_label = []\n",
    "predicted_label = []\n",
    "for a in range(0,num_samples_A):\n",
    "    with open(path_ASL_A + '/' + ASL_images_list_A[a], \"rb\") as image:\n",
    "        image_A = base64.b64encode(image.read())\n",
    "    output = get_prediction(image_A)\n",
    "    true_label.append('A')\n",
    "    predicted_label.append(output['predicted_label'])\n",
    "\n",
    "\n",
    "# Read 100 images of b in American Sign Language\n",
    "# Make predictions and store the prediction and probability\n",
    "path_ASL_B = \"/Users/shriyas/Downloads/23079_29550_bundle_archive/asl_alphabet_train/asl_alphabet_train/B/B_Test\"\n",
    "\n",
    "ASL_images_list_B = [f for f in listdir(path_ASL_B) if isfile(join(path_ASL_B, f))]\n",
    "num_samples_B = len(ASL_images_list_B)\n",
    "for a in range(0,num_samples_B):\n",
    "    with open(path_ASL_B + '/' + ASL_images_list_B[a], \"rb\") as image:\n",
    "        image_B = base64.b64encode(image.read())\n",
    "    output = get_prediction(image_B)\n",
    "    true_label.append('B')\n",
    "    predicted_label.append(output['predicted_label'])\n",
    "    \n",
    "\n",
    "#The information is put into a confusion matrix\n",
    "from sklearn.metrics import confusion_matrix\n",
    "confusion_matrix(true_label, predicted_label)\n"
   ]
  },
  {
   "cell_type": "code",
   "execution_count": null,
   "metadata": {},
   "outputs": [],
   "source": []
  }
 ],
 "metadata": {
  "kernelspec": {
   "display_name": "Python 3",
   "language": "python",
   "name": "python3"
  },
  "language_info": {
   "codemirror_mode": {
    "name": "ipython",
    "version": 3
   },
   "file_extension": ".py",
   "mimetype": "text/x-python",
   "name": "python",
   "nbconvert_exporter": "python",
   "pygments_lexer": "ipython3",
   "version": "3.7.6"
  }
 },
 "nbformat": 4,
 "nbformat_minor": 4
}
