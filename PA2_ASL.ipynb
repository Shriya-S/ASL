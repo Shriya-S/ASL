{
 "cells": [
  {
   "cell_type": "code",
   "execution_count": 1,
   "metadata": {
    "scrolled": true
   },
   "outputs": [
    {
     "name": "stdout",
     "output_type": "stream",
     "text": [
      "opencv_frame_0.png written!\n",
      "E\n",
      "0.6355911493301392\n",
      "opencv_frame_1.png written!\n",
      "A\n",
      "0.8098796606063843\n",
      "failed to grab frame\n"
     ]
    }
   ],
   "source": [
    "import cv2\n",
    "import requests\n",
    "import base64\n",
    "import json\n",
    "\n",
    "cam = cv2.VideoCapture(0)\n",
    "\n",
    "cv2.namedWindow(\"test\")\n",
    "\n",
    "img_counter = 0\n",
    "\n",
    "while True:\n",
    "    ret, frame = cam.read()\n",
    "    if not ret:\n",
    "        print(\"failed to grab frame\")\n",
    "        break\n",
    "    cv2.imshow(\"test\", frame)\n",
    "\n",
    "    k = cv2.waitKey(1)\n",
    "    if k%256 == 27:\n",
    "        # ESC pressed\n",
    "        print(\"Escape hit, closing...\")\n",
    "        break\n",
    "    elif k%256 == 32:\n",
    "        # SPACE pressed\n",
    "        image_name = \"opencv_frame_{}.png\".format(img_counter)\n",
    "        cv2.imwrite(image_name, frame)\n",
    "        print(\"{} written!\".format(image_name))\n",
    "        img_counter += 1\n",
    "        def get_prediction(image_name):\n",
    "            url = 'https://uc21js5iu8.execute-api.us-east-1.amazonaws.com/Predict/2c356199-d71a-4bee-88de-522b64fe973a'\n",
    "            r = requests.post(url, data=image_name)\n",
    "            response = getattr(r,'_content').decode(\"utf-8\")\n",
    "            #print(response)\n",
    "            return response\n",
    "        with open(image_name, \"rb\") as image:\n",
    "            payload = base64.b64encode(image.read())\n",
    "            predicted = json.loads(get_prediction(payload))['predicted_label']\n",
    "            score = json.loads(get_prediction(payload))['score']\n",
    "            print(predicted)\n",
    "            print(score)\n",
    "            \n",
    "\n",
    "cam.release()\n",
    "\n",
    "cv2.destroyAllWindows()"
   ]
  },
  {
   "cell_type": "code",
   "execution_count": null,
   "metadata": {},
   "outputs": [],
   "source": []
  },
  {
   "cell_type": "code",
   "execution_count": null,
   "metadata": {},
   "outputs": [],
   "source": []
  },
  {
   "cell_type": "code",
   "execution_count": null,
   "metadata": {},
   "outputs": [],
   "source": []
  }
 ],
 "metadata": {
  "kernelspec": {
   "display_name": "Python 3",
   "language": "python",
   "name": "python3"
  },
  "language_info": {
   "codemirror_mode": {
    "name": "ipython",
    "version": 3
   },
   "file_extension": ".py",
   "mimetype": "text/x-python",
   "name": "python",
   "nbconvert_exporter": "python",
   "pygments_lexer": "ipython3",
   "version": "3.7.6"
  }
 },
 "nbformat": 4,
 "nbformat_minor": 4
}
